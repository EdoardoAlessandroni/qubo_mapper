{
 "cells": [
  {
   "cell_type": "code",
   "execution_count": 1,
   "id": "35fc3761-e47b-41fb-98f8-2c27b9cb8757",
   "metadata": {},
   "outputs": [],
   "source": [
    "from itertools import product"
   ]
  },
  {
   "cell_type": "code",
   "execution_count": 46,
   "id": "ce9a058b-17cd-4740-865c-c04a2cd7f018",
   "metadata": {},
   "outputs": [],
   "source": [
    "M_strategies = [\"M_1\", \"M_2\"]\n",
    "data = [\"A\"]\n",
    "n = 10\n",
    "i = \"i\"\n",
    "\n",
    "def f(n):\n",
    "    return n**2\n",
    "\n",
    "fs = [f(n) for n in range(n)]\n",
    "\n",
    "# Create an iterable of tuples for pool.map\n",
    "args_iterable = product(zip(range(n), fs), [M_strategies], data)"
   ]
  },
  {
   "cell_type": "code",
   "execution_count": 47,
   "id": "f9006134-2e36-4a5c-aa7e-252986b8db01",
   "metadata": {},
   "outputs": [
    {
     "name": "stdout",
     "output_type": "stream",
     "text": [
      "((0, 0), ['M_1', 'M_2'], 'A')\n",
      "((1, 1), ['M_1', 'M_2'], 'A')\n",
      "((2, 4), ['M_1', 'M_2'], 'A')\n",
      "((3, 9), ['M_1', 'M_2'], 'A')\n",
      "((4, 16), ['M_1', 'M_2'], 'A')\n",
      "((5, 25), ['M_1', 'M_2'], 'A')\n",
      "((6, 36), ['M_1', 'M_2'], 'A')\n",
      "((7, 49), ['M_1', 'M_2'], 'A')\n",
      "((8, 64), ['M_1', 'M_2'], 'A')\n",
      "((9, 81), ['M_1', 'M_2'], 'A')\n"
     ]
    }
   ],
   "source": [
    "for i in args_iterable:\n",
    "    print(i)"
   ]
  },
  {
   "cell_type": "code",
   "execution_count": 42,
   "id": "2b19e471-f5cb-4c01-a17b-266c030b5c58",
   "metadata": {},
   "outputs": [
    {
     "name": "stdout",
     "output_type": "stream",
     "text": [
      "0\n",
      "n=2\n",
      "f(n)=4\n",
      "Ms=['M_1', 'M_2']\n",
      "\n"
     ]
    },
    {
     "ename": "TypeError",
     "evalue": "func() missing 3 required positional arguments: 'f', 'M_strat', and 'data'",
     "output_type": "error",
     "traceback": [
      "\u001b[0;31m---------------------------------------------------------------------------\u001b[0m",
      "\u001b[0;31mTypeError\u001b[0m                                 Traceback (most recent call last)",
      "Cell \u001b[0;32mIn[42], line 9\u001b[0m\n\u001b[1;32m      6\u001b[0m func(\u001b[38;5;241m*\u001b[39m(\u001b[38;5;241m2\u001b[39m, \u001b[38;5;241m4\u001b[39m), [\u001b[38;5;124m\"\u001b[39m\u001b[38;5;124mM_1\u001b[39m\u001b[38;5;124m\"\u001b[39m, \u001b[38;5;124m\"\u001b[39m\u001b[38;5;124mM_2\u001b[39m\u001b[38;5;124m\"\u001b[39m], [\u001b[38;5;124m\"\u001b[39m\u001b[38;5;124mA\u001b[39m\u001b[38;5;124m\"\u001b[39m])\n\u001b[1;32m      8\u001b[0m \u001b[38;5;28;01mfor\u001b[39;00m a \u001b[38;5;129;01min\u001b[39;00m args_iterable:\n\u001b[0;32m----> 9\u001b[0m     \u001b[43mfunc\u001b[49m\u001b[43m(\u001b[49m\u001b[43ma\u001b[49m\u001b[43m)\u001b[49m\n",
      "\u001b[0;31mTypeError\u001b[0m: func() missing 3 required positional arguments: 'f', 'M_strat', and 'data'"
     ]
    }
   ],
   "source": [
    "def func(n, f, M_strat, data):\n",
    "    print(0)\n",
    "    print(f\"n={n}\\nf(n)={f}\\nMs={M_strat}\\n\")\n",
    "    return\n",
    "\n",
    "func(*(2, 4), [\"M_1\", \"M_2\"], [\"A\"])\n",
    "\n",
    "for a in args_iterable:\n",
    "    func(a)"
   ]
  },
  {
   "cell_type": "code",
   "execution_count": null,
   "id": "f89b64cd-50ff-43d4-b876-75ec7d10cab2",
   "metadata": {},
   "outputs": [],
   "source": []
  }
 ],
 "metadata": {
  "kernelspec": {
   "display_name": "Python 3 (ipykernel)",
   "language": "python",
   "name": "python3"
  },
  "language_info": {
   "codemirror_mode": {
    "name": "ipython",
    "version": 3
   },
   "file_extension": ".py",
   "mimetype": "text/x-python",
   "name": "python",
   "nbconvert_exporter": "python",
   "pygments_lexer": "ipython3",
   "version": "3.11.5"
  }
 },
 "nbformat": 4,
 "nbformat_minor": 5
}
