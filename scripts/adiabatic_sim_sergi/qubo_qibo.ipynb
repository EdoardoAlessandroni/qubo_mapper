{
 "cells": [
  {
   "cell_type": "code",
   "execution_count": null,
   "id": "d6699c69",
   "metadata": {
    "ExecuteTime": {
     "end_time": "2023-03-08T10:30:12.907488Z",
     "start_time": "2023-03-08T10:30:12.903805Z"
    }
   },
   "outputs": [],
   "source": [
    "import matplotlib.pyplot as plt\n",
    "%matplotlib inline"
   ]
  },
  {
   "cell_type": "code",
   "execution_count": null,
   "id": "c9e3d545",
   "metadata": {
    "ExecuteTime": {
     "end_time": "2023-03-08T10:30:13.699615Z",
     "start_time": "2023-03-08T10:30:13.697185Z"
    }
   },
   "outputs": [],
   "source": [
    "from functions import *"
   ]
  },
  {
   "cell_type": "code",
   "execution_count": null,
   "id": "93d1e9d4",
   "metadata": {
    "ExecuteTime": {
     "end_time": "2023-03-08T10:30:14.292045Z",
     "start_time": "2023-03-08T10:30:14.289483Z"
    }
   },
   "outputs": [],
   "source": [
    "from qibo.symbols import X, Z"
   ]
  },
  {
   "cell_type": "code",
   "execution_count": null,
   "id": "be694177",
   "metadata": {
    "ExecuteTime": {
     "end_time": "2023-03-08T10:30:14.882181Z",
     "start_time": "2023-03-08T10:30:14.879736Z"
    }
   },
   "outputs": [],
   "source": [
    "nqubits = 6"
   ]
  },
  {
   "cell_type": "code",
   "execution_count": null,
   "id": "4379f235",
   "metadata": {
    "ExecuteTime": {
     "end_time": "2023-03-08T10:30:15.484706Z",
     "start_time": "2023-03-08T10:30:15.474827Z"
    }
   },
   "outputs": [],
   "source": [
    "folder = 'qubo_small'\n",
    "\n",
    "typeM = 'qiskitM'\n",
    "files_qiskit = get_filenames(folder, typeM, nqubits)\n",
    "\n",
    "typeM = 'ourM'\n",
    "files_our = get_filenames(folder, typeM, nqubits)\n",
    "\n",
    "\n",
    "solutions = get_filenames(folder, 'solution', nqubits)"
   ]
  },
  {
   "cell_type": "code",
   "execution_count": null,
   "id": "3745c0ee",
   "metadata": {
    "ExecuteTime": {
     "end_time": "2023-03-08T10:30:16.105697Z",
     "start_time": "2023-03-08T10:30:16.103491Z"
    }
   },
   "outputs": [],
   "source": [
    "# Debug"
   ]
  },
  {
   "cell_type": "code",
   "execution_count": null,
   "id": "82c742f7",
   "metadata": {
    "ExecuteTime": {
     "end_time": "2023-03-08T10:30:17.640511Z",
     "start_time": "2023-03-08T10:30:16.692383Z"
    }
   },
   "outputs": [],
   "source": [
    "x = symbols(\" \".join((f\"x{i}\" for i in range(0, nqubits))))\n",
    "\n",
    "dict_x = {str(xx):xx for xx in x}\n",
    "\n",
    "sym_obj = get_sym_obj(files_our[0], dict_x)\n",
    "sym_ham = get_sym_ham(sym_obj, x)\n",
    "sol, sol_bin = get_solution(solutions[0], nqubits)"
   ]
  },
  {
   "cell_type": "code",
   "execution_count": null,
   "id": "26fd2f24",
   "metadata": {
    "ExecuteTime": {
     "end_time": "2023-03-08T10:30:18.225620Z",
     "start_time": "2023-03-08T10:30:18.222553Z"
    }
   },
   "outputs": [],
   "source": [
    "sol"
   ]
  },
  {
   "cell_type": "code",
   "execution_count": null,
   "id": "43d572de",
   "metadata": {
    "ExecuteTime": {
     "end_time": "2023-03-08T10:30:18.821035Z",
     "start_time": "2023-03-08T10:30:18.818658Z"
    }
   },
   "outputs": [],
   "source": [
    "s = lambda t: t"
   ]
  },
  {
   "cell_type": "code",
   "execution_count": null,
   "id": "1978a848",
   "metadata": {
    "ExecuteTime": {
     "end_time": "2023-03-08T10:30:19.440065Z",
     "start_time": "2023-03-08T10:30:19.368190Z"
    }
   },
   "outputs": [],
   "source": [
    "ham0 = get_h0(nqubits)"
   ]
  },
  {
   "cell_type": "code",
   "execution_count": null,
   "id": "2d223867",
   "metadata": {
    "ExecuteTime": {
     "end_time": "2023-03-08T10:30:20.565460Z",
     "start_time": "2023-03-08T10:30:20.562339Z"
    }
   },
   "outputs": [],
   "source": [
    "h0 = sum((0.5 * (1 - X(i))) for i in range(nqubits))"
   ]
  },
  {
   "cell_type": "code",
   "execution_count": null,
   "id": "53e88ebf",
   "metadata": {
    "ExecuteTime": {
     "end_time": "2023-03-08T10:30:22.071362Z",
     "start_time": "2023-03-08T10:30:21.136545Z"
    }
   },
   "outputs": [],
   "source": [
    "subs = substitutions(x)\n",
    "ham = simplify(sym_obj.subs(subs))\n",
    "max_eig, min_eig = get_maxmin_eigenvalues(ham)\n",
    "ham = simplify((ham-min_eig)/(max_eig-min_eig))"
   ]
  },
  {
   "cell_type": "code",
   "execution_count": null,
   "id": "4174b45d",
   "metadata": {
    "ExecuteTime": {
     "end_time": "2023-03-08T10:30:35.952692Z",
     "start_time": "2023-03-08T10:30:22.778921Z"
    }
   },
   "outputs": [],
   "source": [
    "# Check the gap during the evolution\n",
    "\n",
    "x = np.linspace(0, 1, 500)\n",
    "energies = []\n",
    "for t in x:\n",
    "    h = (1-t)*h0/nqubits+t*ham\n",
    "    h = hamiltonians.SymbolicHamiltonian(h)\n",
    "    eigs = h.eigenvalues()\n",
    "    energies.append(eigs)\n",
    "    "
   ]
  },
  {
   "cell_type": "code",
   "execution_count": null,
   "id": "e38979ce",
   "metadata": {
    "ExecuteTime": {
     "end_time": "2023-03-08T10:30:40.419516Z",
     "start_time": "2023-03-08T10:30:40.415937Z"
    }
   },
   "outputs": [],
   "source": [
    "energies = np.array(energies).T"
   ]
  },
  {
   "cell_type": "code",
   "execution_count": null,
   "id": "d5a82f2e",
   "metadata": {
    "ExecuteTime": {
     "end_time": "2023-03-08T10:41:47.885346Z",
     "start_time": "2023-03-08T10:41:47.740239Z"
    }
   },
   "outputs": [],
   "source": [
    "# Plot the energies for different value of s\n",
    "for en in energies[:3]:\n",
    "    plt.plot(x[-20:], en[-20:])"
   ]
  },
  {
   "cell_type": "code",
   "execution_count": null,
   "id": "7cce6d71",
   "metadata": {
    "ExecuteTime": {
     "end_time": "2023-03-08T10:41:26.216367Z",
     "start_time": "2023-03-08T10:41:26.066751Z"
    }
   },
   "outputs": [],
   "source": [
    "# Plot the gap for different values of s\n",
    "plt.plot(x[-20:], np.array(energies[1][-20:])-np.array(energies[0][-20:]))"
   ]
  },
  {
   "cell_type": "code",
   "execution_count": null,
   "id": "168fc594",
   "metadata": {},
   "outputs": [],
   "source": []
  },
  {
   "cell_type": "code",
   "execution_count": null,
   "id": "51101732",
   "metadata": {
    "ExecuteTime": {
     "end_time": "2023-03-08T10:30:10.167287Z",
     "start_time": "2023-03-08T10:24:43.554146Z"
    }
   },
   "outputs": [],
   "source": [
    "# Try an instance of adiabatic evolution\n",
    "evolve = AdiabaticEvolution(ham0, sym_ham, s, dt=1, solver='exp')\n",
    "final_state = evolve(final_time=1000000, initial_state=np.copy(ground))"
   ]
  },
  {
   "cell_type": "code",
   "execution_count": null,
   "id": "d6e8ca1c",
   "metadata": {},
   "outputs": [],
   "source": [
    "# Plot some of the results to see how well it works"
   ]
  },
  {
   "cell_type": "code",
   "execution_count": null,
   "id": "865e7b3c",
   "metadata": {
    "ExecuteTime": {
     "end_time": "2023-03-07T10:59:55.381490Z",
     "start_time": "2023-03-07T10:59:55.381462Z"
    }
   },
   "outputs": [],
   "source": [
    "final_state"
   ]
  },
  {
   "cell_type": "code",
   "execution_count": null,
   "id": "cce490ac",
   "metadata": {
    "ExecuteTime": {
     "end_time": "2023-03-07T10:59:55.438109Z",
     "start_time": "2023-03-07T10:59:55.438078Z"
    }
   },
   "outputs": [],
   "source": [
    "sym_ham.expectation(final_state)"
   ]
  },
  {
   "cell_type": "code",
   "execution_count": null,
   "id": "c90868a9",
   "metadata": {
    "ExecuteTime": {
     "end_time": "2023-03-07T10:59:55.491646Z",
     "start_time": "2023-03-07T10:59:55.491618Z"
    }
   },
   "outputs": [],
   "source": [
    "np.abs(final_state).argmax()"
   ]
  },
  {
   "cell_type": "code",
   "execution_count": null,
   "id": "4039aa12",
   "metadata": {
    "ExecuteTime": {
     "end_time": "2023-03-07T10:59:55.544939Z",
     "start_time": "2023-03-07T10:59:55.544906Z"
    }
   },
   "outputs": [],
   "source": [
    "(np.abs(final_state)**2).max()"
   ]
  },
  {
   "cell_type": "code",
   "execution_count": null,
   "id": "183f9bb0",
   "metadata": {
    "ExecuteTime": {
     "end_time": "2023-03-07T10:59:55.602754Z",
     "start_time": "2023-03-07T10:59:55.602724Z"
    }
   },
   "outputs": [],
   "source": [
    "np.sum(np.abs(final_state)**2)"
   ]
  },
  {
   "cell_type": "code",
   "execution_count": null,
   "id": "226caee3",
   "metadata": {
    "ExecuteTime": {
     "end_time": "2023-03-07T10:59:55.657363Z",
     "start_time": "2023-03-07T10:59:55.657333Z"
    }
   },
   "outputs": [],
   "source": [
    "sol"
   ]
  },
  {
   "cell_type": "code",
   "execution_count": null,
   "id": "61541eb8",
   "metadata": {},
   "outputs": [],
   "source": []
  },
  {
   "cell_type": "code",
   "execution_count": null,
   "id": "e4585bfb",
   "metadata": {
    "ExecuteTime": {
     "end_time": "2023-03-03T09:02:40.288153Z",
     "start_time": "2023-03-03T07:04:46.064149Z"
    },
    "scrolled": true
   },
   "outputs": [],
   "source": [
    "# Run the comparison algorithm for a set of the files\n",
    "probs_our, probs_qiskit = compare_adiabatic(files_our[:100], files_qiskit[:100], solutions[:100], 1000000, nqubits, dt=10)\n",
    "save_data(probs_our, 'adiabatic_our_T_100_dt_.5')\n",
    "save_data(probs_qiskit, 'adiabatic_qiskit_T_100_dt_.5')"
   ]
  },
  {
   "cell_type": "code",
   "execution_count": null,
   "id": "c5d19729",
   "metadata": {
    "ExecuteTime": {
     "end_time": "2023-03-02T14:06:31.956727Z",
     "start_time": "2023-03-02T14:06:31.956709Z"
    }
   },
   "outputs": [],
   "source": [
    "ratio = probs_our/probs_qiskit"
   ]
  },
  {
   "cell_type": "code",
   "execution_count": null,
   "id": "7e44d482",
   "metadata": {
    "ExecuteTime": {
     "end_time": "2023-03-02T12:53:33.335995Z",
     "start_time": "2023-03-02T12:53:33.331105Z"
    }
   },
   "outputs": [],
   "source": [
    "print(np.sum(ratio >= 1))"
   ]
  },
  {
   "cell_type": "code",
   "execution_count": null,
   "id": "14d0599d",
   "metadata": {
    "ExecuteTime": {
     "end_time": "2023-03-02T12:53:33.549044Z",
     "start_time": "2023-03-02T12:53:33.362667Z"
    }
   },
   "outputs": [],
   "source": [
    "plt.plot(np.sort(ratio))"
   ]
  },
  {
   "cell_type": "code",
   "execution_count": null,
   "id": "c094f3e2",
   "metadata": {},
   "outputs": [],
   "source": []
  },
  {
   "cell_type": "code",
   "execution_count": null,
   "id": "19c6b36f",
   "metadata": {},
   "outputs": [],
   "source": []
  },
  {
   "cell_type": "code",
   "execution_count": null,
   "id": "c7029b04",
   "metadata": {},
   "outputs": [],
   "source": []
  },
  {
   "cell_type": "code",
   "execution_count": null,
   "id": "8d1895dd",
   "metadata": {},
   "outputs": [],
   "source": []
  },
  {
   "cell_type": "code",
   "execution_count": null,
   "id": "fb3d3cf6",
   "metadata": {},
   "outputs": [],
   "source": [
    "nparams = 10"
   ]
  },
  {
   "cell_type": "code",
   "execution_count": null,
   "id": "5b8e1592",
   "metadata": {
    "ExecuteTime": {
     "end_time": "2022-12-06T19:58:36.786260Z",
     "start_time": "2022-12-06T12:40:36.821488Z"
    },
    "scrolled": true
   },
   "outputs": [],
   "source": [
    "# Run a similar comparison but with qaoa only\n",
    "probs_our, probs_qiskit = compare_qaoa(files_our, files_qiskit, solutions, nqubits, nparams)\n",
    "save_data(probs_our, 'qaoa_our_LBFGS_2qubits_parameters')\n",
    "save_data(probs_qiskit, 'qaoa_qiskit_LBSGS_2qubits_parameters')"
   ]
  },
  {
   "cell_type": "code",
   "execution_count": null,
   "id": "a03118a4",
   "metadata": {
    "ExecuteTime": {
     "end_time": "2022-12-06T19:58:38.979154Z",
     "start_time": "2022-12-06T19:58:38.976941Z"
    }
   },
   "outputs": [],
   "source": [
    "ratio = probs_our/probs_qiskit"
   ]
  },
  {
   "cell_type": "code",
   "execution_count": null,
   "id": "699db844",
   "metadata": {
    "ExecuteTime": {
     "end_time": "2022-12-06T19:58:39.501882Z",
     "start_time": "2022-12-06T19:58:39.368657Z"
    }
   },
   "outputs": [],
   "source": [
    "plt.plot(np.sort(ratio))"
   ]
  },
  {
   "cell_type": "code",
   "execution_count": null,
   "id": "f43eeaaa",
   "metadata": {},
   "outputs": [],
   "source": []
  }
 ],
 "metadata": {
  "kernelspec": {
   "display_name": "Python 3 (ipykernel)",
   "language": "python",
   "name": "python3"
  },
  "language_info": {
   "codemirror_mode": {
    "name": "ipython",
    "version": 3
   },
   "file_extension": ".py",
   "mimetype": "text/x-python",
   "name": "python",
   "nbconvert_exporter": "python",
   "pygments_lexer": "ipython3",
   "version": "3.9.10"
  },
  "toc": {
   "base_numbering": 1,
   "nav_menu": {},
   "number_sections": true,
   "sideBar": true,
   "skip_h1_title": false,
   "title_cell": "Table of Contents",
   "title_sidebar": "Contents",
   "toc_cell": false,
   "toc_position": {},
   "toc_section_display": true,
   "toc_window_display": false
  },
  "varInspector": {
   "cols": {
    "lenName": 16,
    "lenType": 16,
    "lenVar": 40
   },
   "kernels_config": {
    "python": {
     "delete_cmd_postfix": "",
     "delete_cmd_prefix": "del ",
     "library": "var_list.py",
     "varRefreshCmd": "print(var_dic_list())"
    },
    "r": {
     "delete_cmd_postfix": ") ",
     "delete_cmd_prefix": "rm(",
     "library": "var_list.r",
     "varRefreshCmd": "cat(var_dic_list()) "
    }
   },
   "types_to_exclude": [
    "module",
    "function",
    "builtin_function_or_method",
    "instance",
    "_Feature"
   ],
   "window_display": false
  },
  "vscode": {
   "interpreter": {
    "hash": "8cf37869f97a93c14afccd036ed21c171636908b21943999fd9fe0b79811fdb9"
   }
  }
 },
 "nbformat": 4,
 "nbformat_minor": 5
}
